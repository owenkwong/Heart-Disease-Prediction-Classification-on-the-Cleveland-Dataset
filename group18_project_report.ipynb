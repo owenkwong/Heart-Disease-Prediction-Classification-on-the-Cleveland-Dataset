{
 "cells": [
  {
   "cell_type": "markdown",
   "id": "e6300b72-ef47-44a6-b350-b8fd372af6e2",
   "metadata": {},
   "source": [
    "# Heart Disease Prediction Classification on the Cleveland Dataset\n",
    "**Owen Kwong, Arissa Tejani, Emily Kehler, and Miaomiao Zhu (Group 18)** "
   ]
  },
  {
   "cell_type": "markdown",
   "id": "fcea5622-fec5-43dc-a3a9-f5e6841f7059",
   "metadata": {},
   "source": [
    "## Introduction"
   ]
  },
  {
   "cell_type": "markdown",
   "id": "dc7bcb08-5e22-4616-8c4b-399a17da24eb",
   "metadata": {},
   "source": [
    "## Methods and Results"
   ]
  },
  {
   "cell_type": "markdown",
   "id": "9d92096f-3816-4dd3-a866-eb404f1899d1",
   "metadata": {},
   "source": [
    "### 1. Exploratory Data Analysis"
   ]
  },
  {
   "cell_type": "markdown",
   "id": "878cbc64-c425-409b-8895-bd8d795fe0c3",
   "metadata": {},
   "source": [
    "### 2. Choosing Predictors"
   ]
  },
  {
   "cell_type": "markdown",
   "id": "0d17db2b-a1fc-4c82-81ef-72394e4caa21",
   "metadata": {},
   "source": [
    "### 3. Methods of Analysis"
   ]
  },
  {
   "cell_type": "markdown",
   "id": "f72c6416-278d-4d3d-a4ab-6ba78cd7e51b",
   "metadata": {},
   "source": [
    "## Discussion"
   ]
  },
  {
   "cell_type": "markdown",
   "id": "0229c08a-a75d-42c2-95d3-e39875461665",
   "metadata": {},
   "source": [
    "## References"
   ]
  }
 ],
 "metadata": {
  "kernelspec": {
   "display_name": "R",
   "language": "R",
   "name": "ir"
  },
  "language_info": {
   "codemirror_mode": "r",
   "file_extension": ".r",
   "mimetype": "text/x-r-source",
   "name": "R",
   "pygments_lexer": "r",
   "version": "4.1.3"
  }
 },
 "nbformat": 4,
 "nbformat_minor": 5
}
